{
 "cells": [
  {
   "cell_type": "markdown",
   "id": "fa11c03e",
   "metadata": {},
   "source": [
    "### Importing the necessary libraries"
   ]
  },
  {
   "cell_type": "code",
   "execution_count": 21,
   "id": "e263472e",
   "metadata": {},
   "outputs": [],
   "source": [
    "import numpy as np\n",
    "import matplotlib.pyplot as plt\n",
    "import pandas as pd\n",
    "import seaborn as sns\n",
    "import scipy as sp\n",
    "import re\n",
    "\n",
    "import xgboost as xgb\n",
    "\n",
    "from scipy import sparse\n",
    "from IPython.display import Image\n",
    "import seaborn as sns\n",
    "\n",
    "from mpl_toolkits.mplot3d import Axes3D\n",
    "\n",
    "sns.set(style=\"ticks\", color_codes=True)\n",
    "%matplotlib inline\n",
    "\n",
    "import os\n",
    "import json\n",
    "\n",
    "from sklearn.model_selection import train_test_split\n",
    "from sklearn.metrics import mean_squared_error\n",
    "from sklearn.model_selection import GridSearchCV\n",
    "\n",
    "from hyperopt import hp\n",
    "from hyperopt import fmin, tpe, hp, STATUS_OK, Trials\n",
    "\n",
    "from datetime import datetime\n",
    "import dateutil\n",
    "\n",
    "from sklearn import preprocessing\n",
    "from sklearn.preprocessing import OneHotEncoder\n",
    "\n",
    "import joblib\n",
    "\n",
    "# Used for removing stopwords\n",
    "from nltk.corpus import stopwords\n",
    "import nltk\n",
    "\n",
    "# Used for text processing and feature extraction\n",
    "from sklearn.feature_extraction.text import CountVectorizer, TfidfTransformer\n",
    "from collections import Counter\n",
    "from sklearn.feature_extraction import DictVectorizer"
   ]
  },
  {
   "cell_type": "markdown",
   "id": "3c16ceed",
   "metadata": {},
   "source": [
    "### Reading the dataset file"
   ]
  },
  {
   "cell_type": "code",
   "execution_count": 22,
   "id": "55b87855",
   "metadata": {},
   "outputs": [
    {
     "data": {
      "text/html": [
       "<div>\n",
       "<style scoped>\n",
       "    .dataframe tbody tr th:only-of-type {\n",
       "        vertical-align: middle;\n",
       "    }\n",
       "\n",
       "    .dataframe tbody tr th {\n",
       "        vertical-align: top;\n",
       "    }\n",
       "\n",
       "    .dataframe thead th {\n",
       "        text-align: right;\n",
       "    }\n",
       "</style>\n",
       "<table border=\"1\" class=\"dataframe\">\n",
       "  <thead>\n",
       "    <tr style=\"text-align: right;\">\n",
       "      <th></th>\n",
       "      <th>username</th>\n",
       "      <th>profile_url</th>\n",
       "      <th>followers</th>\n",
       "      <th>following</th>\n",
       "      <th>number_of_posts</th>\n",
       "      <th>url</th>\n",
       "      <th>urlImage</th>\n",
       "      <th>description</th>\n",
       "      <th>mentions</th>\n",
       "      <th>likes</th>\n",
       "    </tr>\n",
       "  </thead>\n",
       "  <tbody>\n",
       "    <tr>\n",
       "      <th>0</th>\n",
       "      <td>1misssmeis</td>\n",
       "      <td>https://www.instagram.com/1misssmeis/</td>\n",
       "      <td>720979</td>\n",
       "      <td>233</td>\n",
       "      <td>988</td>\n",
       "      <td>https://www.instagram.com/p/BTdS7XgBe4X/?taken...</td>\n",
       "      <td>https://scontent.cdninstagram.com/t51.2885-15/...</td>\n",
       "      <td>With my lovely colleague @fraukeludowig_offici...</td>\n",
       "      <td>['@fraukeludowig_official', '@rtl_exclusiv', '...</td>\n",
       "      <td>10047</td>\n",
       "    </tr>\n",
       "    <tr>\n",
       "      <th>1</th>\n",
       "      <td>1misssmeis</td>\n",
       "      <td>https://www.instagram.com/1misssmeis/</td>\n",
       "      <td>720979</td>\n",
       "      <td>233</td>\n",
       "      <td>988</td>\n",
       "      <td>https://www.instagram.com/p/BTdRaquBZTD/?taken...</td>\n",
       "      <td>https://scontent.cdninstagram.com/t51.2885-15/...</td>\n",
       "      <td>My look last night, hosting Let's Dance! Style...</td>\n",
       "      <td>['@tine', '@rachelzoe', '@lecolook', '@letsdan...</td>\n",
       "      <td>16781</td>\n",
       "    </tr>\n",
       "    <tr>\n",
       "      <th>2</th>\n",
       "      <td>1misssmeis</td>\n",
       "      <td>https://www.instagram.com/1misssmeis/</td>\n",
       "      <td>720979</td>\n",
       "      <td>233</td>\n",
       "      <td>988</td>\n",
       "      <td>https://www.instagram.com/p/BTZXesPhDsB/?taken...</td>\n",
       "      <td>https://scontent.cdninstagram.com/t51.2885-15/...</td>\n",
       "      <td>Calm before the 'glam' storm! 💋💄💅🏻💆🏼💇🏼Tomorrow...</td>\n",
       "      <td>['@letsdance', '@rtlde', '@rtlde', '@letsdance']</td>\n",
       "      <td>11227</td>\n",
       "    </tr>\n",
       "    <tr>\n",
       "      <th>3</th>\n",
       "      <td>1misssmeis</td>\n",
       "      <td>https://www.instagram.com/1misssmeis/</td>\n",
       "      <td>720979</td>\n",
       "      <td>233</td>\n",
       "      <td>988</td>\n",
       "      <td>https://www.instagram.com/p/BTRS6IOhz6J/?taken...</td>\n",
       "      <td>https://scontent.cdninstagram.com/t51.2885-15/...</td>\n",
       "      <td>🌼Today's look for QVC.. styled by @bydanienl #...</td>\n",
       "      <td>['@bydanienl', '@roland_mouret', '@casadeioffi...</td>\n",
       "      <td>21539</td>\n",
       "    </tr>\n",
       "    <tr>\n",
       "      <th>4</th>\n",
       "      <td>1misssmeis</td>\n",
       "      <td>https://www.instagram.com/1misssmeis/</td>\n",
       "      <td>720979</td>\n",
       "      <td>233</td>\n",
       "      <td>988</td>\n",
       "      <td>https://www.instagram.com/p/BTLTV46BKDF/?taken...</td>\n",
       "      <td>https://scontent.cdninstagram.com/t51.2885-15/...</td>\n",
       "      <td>💋Happy Weekend Lovelies ❤ #weekend #yay #happy...</td>\n",
       "      <td>['@elisabettafranchi', '@serenagoldenbaum']</td>\n",
       "      <td>21054</td>\n",
       "    </tr>\n",
       "    <tr>\n",
       "      <th>...</th>\n",
       "      <td>...</td>\n",
       "      <td>...</td>\n",
       "      <td>...</td>\n",
       "      <td>...</td>\n",
       "      <td>...</td>\n",
       "      <td>...</td>\n",
       "      <td>...</td>\n",
       "      <td>...</td>\n",
       "      <td>...</td>\n",
       "      <td>...</td>\n",
       "    </tr>\n",
       "    <tr>\n",
       "      <th>18610</th>\n",
       "      <td>_rl9</td>\n",
       "      <td>https://www.instagram.com/_rl9/</td>\n",
       "      <td>35.4M</td>\n",
       "      <td>119</td>\n",
       "      <td>2,043</td>\n",
       "      <td>https://www.instagram.com/reel/C3qt9Ldt7ue/</td>\n",
       "      <td>https://scontent.cdninstagram.com/v/t51.29350-...</td>\n",
       "      <td>LewanGOALski\\n#NapoliBarça</td>\n",
       "      <td>[]</td>\n",
       "      <td>3,95,889</td>\n",
       "    </tr>\n",
       "    <tr>\n",
       "      <th>18611</th>\n",
       "      <td>_rl9</td>\n",
       "      <td>https://www.instagram.com/_rl9/</td>\n",
       "      <td>35.4M</td>\n",
       "      <td>119</td>\n",
       "      <td>2,043</td>\n",
       "      <td>https://www.instagram.com/p/C3oGDDXIi2I/</td>\n",
       "      <td>https://scontent.cdninstagram.com/v/t51.29350-...</td>\n",
       "      <td>We’ll give our all at home for a place in the ...</td>\n",
       "      <td>['@fcbarcelona']</td>\n",
       "      <td>5,60,960</td>\n",
       "    </tr>\n",
       "    <tr>\n",
       "      <th>18612</th>\n",
       "      <td>_rl9</td>\n",
       "      <td>https://www.instagram.com/_rl9/</td>\n",
       "      <td>35.4M</td>\n",
       "      <td>119</td>\n",
       "      <td>2,043</td>\n",
       "      <td>https://www.instagram.com/p/C3fYANmoA0x/</td>\n",
       "      <td>https://scontent.cdninstagram.com/v/t51.29350-...</td>\n",
       "      <td>Photo shared by Robert Lewandowski on February...</td>\n",
       "      <td>['@sm_stormbikes.']</td>\n",
       "      <td>1,89,384</td>\n",
       "    </tr>\n",
       "    <tr>\n",
       "      <th>18613</th>\n",
       "      <td>_rl9</td>\n",
       "      <td>https://www.instagram.com/_rl9/</td>\n",
       "      <td>35.4M</td>\n",
       "      <td>119</td>\n",
       "      <td>2,043</td>\n",
       "      <td>https://www.instagram.com/reel/C3fWDLlIdeG/</td>\n",
       "      <td>https://scontent.cdninstagram.com/v/t51.29350-...</td>\n",
       "      <td>All roads lead to Lewy’s 50 goals 🫡\\n\\n#LaLiga...</td>\n",
       "      <td>[]</td>\n",
       "      <td>3,30,469</td>\n",
       "    </tr>\n",
       "    <tr>\n",
       "      <th>18614</th>\n",
       "      <td>_rl9</td>\n",
       "      <td>https://www.instagram.com/_rl9/</td>\n",
       "      <td>35.4M</td>\n",
       "      <td>119</td>\n",
       "      <td>2,043</td>\n",
       "      <td>https://www.instagram.com/p/C3djw4Yr4gk/</td>\n",
       "      <td>https://scontent.cdninstagram.com/v/t51.29350-...</td>\n",
       "      <td>+3! Fighting till the end. \\nAll together cule...</td>\n",
       "      <td>['@fcbarcelona']</td>\n",
       "      <td>5,69,170</td>\n",
       "    </tr>\n",
       "  </tbody>\n",
       "</table>\n",
       "<p>18615 rows × 10 columns</p>\n",
       "</div>"
      ],
      "text/plain": [
       "         username                            profile_url followers following  \\\n",
       "0      1misssmeis  https://www.instagram.com/1misssmeis/    720979       233   \n",
       "1      1misssmeis  https://www.instagram.com/1misssmeis/    720979       233   \n",
       "2      1misssmeis  https://www.instagram.com/1misssmeis/    720979       233   \n",
       "3      1misssmeis  https://www.instagram.com/1misssmeis/    720979       233   \n",
       "4      1misssmeis  https://www.instagram.com/1misssmeis/    720979       233   \n",
       "...           ...                                    ...       ...       ...   \n",
       "18610        _rl9        https://www.instagram.com/_rl9/     35.4M       119   \n",
       "18611        _rl9        https://www.instagram.com/_rl9/     35.4M       119   \n",
       "18612        _rl9        https://www.instagram.com/_rl9/     35.4M       119   \n",
       "18613        _rl9        https://www.instagram.com/_rl9/     35.4M       119   \n",
       "18614        _rl9        https://www.instagram.com/_rl9/     35.4M       119   \n",
       "\n",
       "      number_of_posts                                                url  \\\n",
       "0                 988  https://www.instagram.com/p/BTdS7XgBe4X/?taken...   \n",
       "1                 988  https://www.instagram.com/p/BTdRaquBZTD/?taken...   \n",
       "2                 988  https://www.instagram.com/p/BTZXesPhDsB/?taken...   \n",
       "3                 988  https://www.instagram.com/p/BTRS6IOhz6J/?taken...   \n",
       "4                 988  https://www.instagram.com/p/BTLTV46BKDF/?taken...   \n",
       "...               ...                                                ...   \n",
       "18610           2,043        https://www.instagram.com/reel/C3qt9Ldt7ue/   \n",
       "18611           2,043           https://www.instagram.com/p/C3oGDDXIi2I/   \n",
       "18612           2,043           https://www.instagram.com/p/C3fYANmoA0x/   \n",
       "18613           2,043        https://www.instagram.com/reel/C3fWDLlIdeG/   \n",
       "18614           2,043           https://www.instagram.com/p/C3djw4Yr4gk/   \n",
       "\n",
       "                                                urlImage  \\\n",
       "0      https://scontent.cdninstagram.com/t51.2885-15/...   \n",
       "1      https://scontent.cdninstagram.com/t51.2885-15/...   \n",
       "2      https://scontent.cdninstagram.com/t51.2885-15/...   \n",
       "3      https://scontent.cdninstagram.com/t51.2885-15/...   \n",
       "4      https://scontent.cdninstagram.com/t51.2885-15/...   \n",
       "...                                                  ...   \n",
       "18610  https://scontent.cdninstagram.com/v/t51.29350-...   \n",
       "18611  https://scontent.cdninstagram.com/v/t51.29350-...   \n",
       "18612  https://scontent.cdninstagram.com/v/t51.29350-...   \n",
       "18613  https://scontent.cdninstagram.com/v/t51.29350-...   \n",
       "18614  https://scontent.cdninstagram.com/v/t51.29350-...   \n",
       "\n",
       "                                             description  \\\n",
       "0      With my lovely colleague @fraukeludowig_offici...   \n",
       "1      My look last night, hosting Let's Dance! Style...   \n",
       "2      Calm before the 'glam' storm! 💋💄💅🏻💆🏼💇🏼Tomorrow...   \n",
       "3      🌼Today's look for QVC.. styled by @bydanienl #...   \n",
       "4      💋Happy Weekend Lovelies ❤ #weekend #yay #happy...   \n",
       "...                                                  ...   \n",
       "18610                         LewanGOALski\\n#NapoliBarça   \n",
       "18611  We’ll give our all at home for a place in the ...   \n",
       "18612  Photo shared by Robert Lewandowski on February...   \n",
       "18613  All roads lead to Lewy’s 50 goals 🫡\\n\\n#LaLiga...   \n",
       "18614  +3! Fighting till the end. \\nAll together cule...   \n",
       "\n",
       "                                                mentions     likes  \n",
       "0      ['@fraukeludowig_official', '@rtl_exclusiv', '...     10047  \n",
       "1      ['@tine', '@rachelzoe', '@lecolook', '@letsdan...     16781  \n",
       "2       ['@letsdance', '@rtlde', '@rtlde', '@letsdance']     11227  \n",
       "3      ['@bydanienl', '@roland_mouret', '@casadeioffi...     21539  \n",
       "4            ['@elisabettafranchi', '@serenagoldenbaum']     21054  \n",
       "...                                                  ...       ...  \n",
       "18610                                                 []  3,95,889  \n",
       "18611                                   ['@fcbarcelona']  5,60,960  \n",
       "18612                                ['@sm_stormbikes.']  1,89,384  \n",
       "18613                                                 []  3,30,469  \n",
       "18614                                   ['@fcbarcelona']  5,69,170  \n",
       "\n",
       "[18615 rows x 10 columns]"
      ]
     },
     "execution_count": 22,
     "metadata": {},
     "output_type": "execute_result"
    }
   ],
   "source": [
    "full=pd.read_csv('combined_file.csv', sep=',', na_values='NaN')\n",
    "\n",
    "full"
   ]
  },
  {
   "cell_type": "code",
   "execution_count": 23,
   "id": "9abf0299",
   "metadata": {},
   "outputs": [
    {
     "name": "stdout",
     "output_type": "stream",
     "text": [
      "Number of posts: 18615\n",
      "Number of users: 1145\n"
     ]
    }
   ],
   "source": [
    "print('Number of posts: ' + str(len(full)))\n",
    "\n",
    "print('Number of users: ' + str(full['username'].nunique()))"
   ]
  },
  {
   "cell_type": "code",
   "execution_count": 24,
   "id": "6fe45737",
   "metadata": {},
   "outputs": [
    {
     "data": {
      "text/html": [
       "<div>\n",
       "<style scoped>\n",
       "    .dataframe tbody tr th:only-of-type {\n",
       "        vertical-align: middle;\n",
       "    }\n",
       "\n",
       "    .dataframe tbody tr th {\n",
       "        vertical-align: top;\n",
       "    }\n",
       "\n",
       "    .dataframe thead th {\n",
       "        text-align: right;\n",
       "    }\n",
       "</style>\n",
       "<table border=\"1\" class=\"dataframe\">\n",
       "  <thead>\n",
       "    <tr style=\"text-align: right;\">\n",
       "      <th></th>\n",
       "      <th>username</th>\n",
       "      <th>profile_url</th>\n",
       "      <th>followers</th>\n",
       "      <th>following</th>\n",
       "      <th>number_of_posts</th>\n",
       "      <th>url</th>\n",
       "      <th>urlImage</th>\n",
       "      <th>description</th>\n",
       "      <th>mentions</th>\n",
       "      <th>likes</th>\n",
       "    </tr>\n",
       "  </thead>\n",
       "  <tbody>\n",
       "    <tr>\n",
       "      <th>count</th>\n",
       "      <td>18615</td>\n",
       "      <td>18615</td>\n",
       "      <td>18615</td>\n",
       "      <td>18615</td>\n",
       "      <td>18615</td>\n",
       "      <td>18615</td>\n",
       "      <td>18615</td>\n",
       "      <td>18336</td>\n",
       "      <td>18615</td>\n",
       "      <td>18615</td>\n",
       "    </tr>\n",
       "    <tr>\n",
       "      <th>unique</th>\n",
       "      <td>1145</td>\n",
       "      <td>1145</td>\n",
       "      <td>1130</td>\n",
       "      <td>708</td>\n",
       "      <td>1030</td>\n",
       "      <td>18612</td>\n",
       "      <td>18614</td>\n",
       "      <td>17959</td>\n",
       "      <td>10089</td>\n",
       "      <td>14225</td>\n",
       "    </tr>\n",
       "    <tr>\n",
       "      <th>top</th>\n",
       "      <td>433</td>\n",
       "      <td>https://www.instagram.com/433/</td>\n",
       "      <td>21.2M</td>\n",
       "      <td>0</td>\n",
       "      <td>367</td>\n",
       "      <td>https://www.instagram.com/reel/C3zPqklSNAk/</td>\n",
       "      <td>https://scontent-bom2-1.cdninstagram.com/v/t51...</td>\n",
       "      <td>#thegoodquote 🌻</td>\n",
       "      <td>[]</td>\n",
       "      <td>0</td>\n",
       "    </tr>\n",
       "    <tr>\n",
       "      <th>freq</th>\n",
       "      <td>29</td>\n",
       "      <td>29</td>\n",
       "      <td>36</td>\n",
       "      <td>349</td>\n",
       "      <td>68</td>\n",
       "      <td>2</td>\n",
       "      <td>2</td>\n",
       "      <td>16</td>\n",
       "      <td>6470</td>\n",
       "      <td>87</td>\n",
       "    </tr>\n",
       "  </tbody>\n",
       "</table>\n",
       "</div>"
      ],
      "text/plain": [
       "       username                     profile_url followers following  \\\n",
       "count     18615                           18615     18615     18615   \n",
       "unique     1145                            1145      1130       708   \n",
       "top         433  https://www.instagram.com/433/     21.2M         0   \n",
       "freq         29                              29        36       349   \n",
       "\n",
       "       number_of_posts                                          url  \\\n",
       "count            18615                                        18615   \n",
       "unique            1030                                        18612   \n",
       "top                367  https://www.instagram.com/reel/C3zPqklSNAk/   \n",
       "freq                68                                            2   \n",
       "\n",
       "                                                 urlImage      description  \\\n",
       "count                                               18615            18336   \n",
       "unique                                              18614            17959   \n",
       "top     https://scontent-bom2-1.cdninstagram.com/v/t51...  #thegoodquote 🌻   \n",
       "freq                                                    2               16   \n",
       "\n",
       "       mentions  likes  \n",
       "count     18615  18615  \n",
       "unique    10089  14225  \n",
       "top          []      0  \n",
       "freq       6470     87  "
      ]
     },
     "execution_count": 24,
     "metadata": {},
     "output_type": "execute_result"
    }
   ],
   "source": [
    "full.describe()"
   ]
  },
  {
   "cell_type": "code",
   "execution_count": 25,
   "id": "b42f2028",
   "metadata": {},
   "outputs": [
    {
     "data": {
      "text/plain": [
       "username             0\n",
       "profile_url          0\n",
       "followers            0\n",
       "following            0\n",
       "number_of_posts      0\n",
       "url                  0\n",
       "urlImage             0\n",
       "description        279\n",
       "mentions             0\n",
       "likes                0\n",
       "dtype: int64"
      ]
     },
     "execution_count": 25,
     "metadata": {},
     "output_type": "execute_result"
    }
   ],
   "source": [
    "pd.isnull(full).sum()"
   ]
  },
  {
   "cell_type": "markdown",
   "id": "51c4d7dd",
   "metadata": {},
   "source": [
    "### Preprocessing of Data"
   ]
  },
  {
   "cell_type": "code",
   "execution_count": 26,
   "id": "583daa35",
   "metadata": {},
   "outputs": [],
   "source": [
    "processed = full\n",
    "\n",
    "toDrop = ['profile_url', 'url', 'urlImage']\n",
    "processed = full.drop(toDrop,axis=1)\n",
    "\n",
    "nonCat = ['description', 'mentions', 'username']\n",
    "processed = processed.drop(nonCat, axis=1)"
   ]
  },
  {
   "cell_type": "code",
   "execution_count": 27,
   "id": "3e3e47de",
   "metadata": {},
   "outputs": [
    {
     "data": {
      "text/html": [
       "<div>\n",
       "<style scoped>\n",
       "    .dataframe tbody tr th:only-of-type {\n",
       "        vertical-align: middle;\n",
       "    }\n",
       "\n",
       "    .dataframe tbody tr th {\n",
       "        vertical-align: top;\n",
       "    }\n",
       "\n",
       "    .dataframe thead th {\n",
       "        text-align: right;\n",
       "    }\n",
       "</style>\n",
       "<table border=\"1\" class=\"dataframe\">\n",
       "  <thead>\n",
       "    <tr style=\"text-align: right;\">\n",
       "      <th></th>\n",
       "      <th>followers</th>\n",
       "      <th>following</th>\n",
       "      <th>number_of_posts</th>\n",
       "      <th>likes</th>\n",
       "    </tr>\n",
       "  </thead>\n",
       "  <tbody>\n",
       "    <tr>\n",
       "      <th>0</th>\n",
       "      <td>720979</td>\n",
       "      <td>233</td>\n",
       "      <td>988</td>\n",
       "      <td>10047</td>\n",
       "    </tr>\n",
       "    <tr>\n",
       "      <th>1</th>\n",
       "      <td>720979</td>\n",
       "      <td>233</td>\n",
       "      <td>988</td>\n",
       "      <td>16781</td>\n",
       "    </tr>\n",
       "    <tr>\n",
       "      <th>2</th>\n",
       "      <td>720979</td>\n",
       "      <td>233</td>\n",
       "      <td>988</td>\n",
       "      <td>11227</td>\n",
       "    </tr>\n",
       "    <tr>\n",
       "      <th>3</th>\n",
       "      <td>720979</td>\n",
       "      <td>233</td>\n",
       "      <td>988</td>\n",
       "      <td>21539</td>\n",
       "    </tr>\n",
       "    <tr>\n",
       "      <th>4</th>\n",
       "      <td>720979</td>\n",
       "      <td>233</td>\n",
       "      <td>988</td>\n",
       "      <td>21054</td>\n",
       "    </tr>\n",
       "    <tr>\n",
       "      <th>...</th>\n",
       "      <td>...</td>\n",
       "      <td>...</td>\n",
       "      <td>...</td>\n",
       "      <td>...</td>\n",
       "    </tr>\n",
       "    <tr>\n",
       "      <th>18610</th>\n",
       "      <td>35.4M</td>\n",
       "      <td>119</td>\n",
       "      <td>2,043</td>\n",
       "      <td>3,95,889</td>\n",
       "    </tr>\n",
       "    <tr>\n",
       "      <th>18611</th>\n",
       "      <td>35.4M</td>\n",
       "      <td>119</td>\n",
       "      <td>2,043</td>\n",
       "      <td>5,60,960</td>\n",
       "    </tr>\n",
       "    <tr>\n",
       "      <th>18612</th>\n",
       "      <td>35.4M</td>\n",
       "      <td>119</td>\n",
       "      <td>2,043</td>\n",
       "      <td>1,89,384</td>\n",
       "    </tr>\n",
       "    <tr>\n",
       "      <th>18613</th>\n",
       "      <td>35.4M</td>\n",
       "      <td>119</td>\n",
       "      <td>2,043</td>\n",
       "      <td>3,30,469</td>\n",
       "    </tr>\n",
       "    <tr>\n",
       "      <th>18614</th>\n",
       "      <td>35.4M</td>\n",
       "      <td>119</td>\n",
       "      <td>2,043</td>\n",
       "      <td>5,69,170</td>\n",
       "    </tr>\n",
       "  </tbody>\n",
       "</table>\n",
       "<p>18615 rows × 4 columns</p>\n",
       "</div>"
      ],
      "text/plain": [
       "      followers following number_of_posts     likes\n",
       "0        720979       233             988     10047\n",
       "1        720979       233             988     16781\n",
       "2        720979       233             988     11227\n",
       "3        720979       233             988     21539\n",
       "4        720979       233             988     21054\n",
       "...         ...       ...             ...       ...\n",
       "18610     35.4M       119           2,043  3,95,889\n",
       "18611     35.4M       119           2,043  5,60,960\n",
       "18612     35.4M       119           2,043  1,89,384\n",
       "18613     35.4M       119           2,043  3,30,469\n",
       "18614     35.4M       119           2,043  5,69,170\n",
       "\n",
       "[18615 rows x 4 columns]"
      ]
     },
     "execution_count": 27,
     "metadata": {},
     "output_type": "execute_result"
    }
   ],
   "source": [
    "processed"
   ]
  },
  {
   "cell_type": "markdown",
   "id": "91ab6789",
   "metadata": {},
   "source": [
    "### Function to convert followers from string to int (M to 10^6 or K to 10^3)"
   ]
  },
  {
   "cell_type": "code",
   "execution_count": 28,
   "id": "97dbcf18",
   "metadata": {},
   "outputs": [],
   "source": [
    "def convert_followers_to_float(value):\n",
    "    if value.endswith('M'):\n",
    "        return float(value[:-1]) * 10**6\n",
    "    elif value.endswith('K'):\n",
    "        return float(value[:-1]) * 10**3\n",
    "    else:\n",
    "        return float(value)"
   ]
  },
  {
   "cell_type": "code",
   "execution_count": 29,
   "id": "3f72dca5",
   "metadata": {},
   "outputs": [
    {
     "data": {
      "text/html": [
       "<div>\n",
       "<style scoped>\n",
       "    .dataframe tbody tr th:only-of-type {\n",
       "        vertical-align: middle;\n",
       "    }\n",
       "\n",
       "    .dataframe tbody tr th {\n",
       "        vertical-align: top;\n",
       "    }\n",
       "\n",
       "    .dataframe thead th {\n",
       "        text-align: right;\n",
       "    }\n",
       "</style>\n",
       "<table border=\"1\" class=\"dataframe\">\n",
       "  <thead>\n",
       "    <tr style=\"text-align: right;\">\n",
       "      <th></th>\n",
       "      <th>followers</th>\n",
       "      <th>following</th>\n",
       "      <th>number_of_posts</th>\n",
       "      <th>likes</th>\n",
       "    </tr>\n",
       "  </thead>\n",
       "  <tbody>\n",
       "    <tr>\n",
       "      <th>0</th>\n",
       "      <td>720979.0</td>\n",
       "      <td>233</td>\n",
       "      <td>988</td>\n",
       "      <td>10047</td>\n",
       "    </tr>\n",
       "    <tr>\n",
       "      <th>1</th>\n",
       "      <td>720979.0</td>\n",
       "      <td>233</td>\n",
       "      <td>988</td>\n",
       "      <td>16781</td>\n",
       "    </tr>\n",
       "    <tr>\n",
       "      <th>2</th>\n",
       "      <td>720979.0</td>\n",
       "      <td>233</td>\n",
       "      <td>988</td>\n",
       "      <td>11227</td>\n",
       "    </tr>\n",
       "    <tr>\n",
       "      <th>3</th>\n",
       "      <td>720979.0</td>\n",
       "      <td>233</td>\n",
       "      <td>988</td>\n",
       "      <td>21539</td>\n",
       "    </tr>\n",
       "    <tr>\n",
       "      <th>4</th>\n",
       "      <td>720979.0</td>\n",
       "      <td>233</td>\n",
       "      <td>988</td>\n",
       "      <td>21054</td>\n",
       "    </tr>\n",
       "    <tr>\n",
       "      <th>...</th>\n",
       "      <td>...</td>\n",
       "      <td>...</td>\n",
       "      <td>...</td>\n",
       "      <td>...</td>\n",
       "    </tr>\n",
       "    <tr>\n",
       "      <th>18610</th>\n",
       "      <td>35400000.0</td>\n",
       "      <td>119</td>\n",
       "      <td>2,043</td>\n",
       "      <td>3,95,889</td>\n",
       "    </tr>\n",
       "    <tr>\n",
       "      <th>18611</th>\n",
       "      <td>35400000.0</td>\n",
       "      <td>119</td>\n",
       "      <td>2,043</td>\n",
       "      <td>5,60,960</td>\n",
       "    </tr>\n",
       "    <tr>\n",
       "      <th>18612</th>\n",
       "      <td>35400000.0</td>\n",
       "      <td>119</td>\n",
       "      <td>2,043</td>\n",
       "      <td>1,89,384</td>\n",
       "    </tr>\n",
       "    <tr>\n",
       "      <th>18613</th>\n",
       "      <td>35400000.0</td>\n",
       "      <td>119</td>\n",
       "      <td>2,043</td>\n",
       "      <td>3,30,469</td>\n",
       "    </tr>\n",
       "    <tr>\n",
       "      <th>18614</th>\n",
       "      <td>35400000.0</td>\n",
       "      <td>119</td>\n",
       "      <td>2,043</td>\n",
       "      <td>5,69,170</td>\n",
       "    </tr>\n",
       "  </tbody>\n",
       "</table>\n",
       "<p>18615 rows × 4 columns</p>\n",
       "</div>"
      ],
      "text/plain": [
       "        followers following number_of_posts     likes\n",
       "0        720979.0       233             988     10047\n",
       "1        720979.0       233             988     16781\n",
       "2        720979.0       233             988     11227\n",
       "3        720979.0       233             988     21539\n",
       "4        720979.0       233             988     21054\n",
       "...           ...       ...             ...       ...\n",
       "18610  35400000.0       119           2,043  3,95,889\n",
       "18611  35400000.0       119           2,043  5,60,960\n",
       "18612  35400000.0       119           2,043  1,89,384\n",
       "18613  35400000.0       119           2,043  3,30,469\n",
       "18614  35400000.0       119           2,043  5,69,170\n",
       "\n",
       "[18615 rows x 4 columns]"
      ]
     },
     "execution_count": 29,
     "metadata": {},
     "output_type": "execute_result"
    }
   ],
   "source": [
    "processed['followers'] = processed['followers'].apply(convert_followers_to_float)\n",
    "\n",
    "processed"
   ]
  },
  {
   "cell_type": "markdown",
   "id": "c19aa6b4",
   "metadata": {},
   "source": [
    "### Typecasting and cleaning column likes"
   ]
  },
  {
   "cell_type": "code",
   "execution_count": 30,
   "id": "575e4903",
   "metadata": {},
   "outputs": [],
   "source": [
    "processed['likes'] = pd.to_numeric(processed['likes'].str.replace(',', ''), errors='coerce')\n",
    "\n",
    "# Fill NaN values with zero likes\n",
    "processed['likes'] = processed['likes'].fillna(0)\n",
    "\n",
    "# Convert the \"likes\" column to integers\n",
    "processed['likes'] = processed['likes'].astype(int)\n",
    "\n",
    "# Calculate the average value of the \"likes\" column excluding zeros\n",
    "average_likes = processed.loc[processed['likes'] != 0, 'likes'].mean()\n",
    "\n",
    "# Replace zeros in the \"likes\" column with the average value\n",
    "processed['likes'] = processed['likes'].replace(0, average_likes)"
   ]
  },
  {
   "cell_type": "markdown",
   "id": "875e8256",
   "metadata": {},
   "source": [
    "### Typecasting and cleaning column number_of_posts"
   ]
  },
  {
   "cell_type": "code",
   "execution_count": 31,
   "id": "1a382196",
   "metadata": {},
   "outputs": [],
   "source": [
    "processed['number_of_posts'] = pd.to_numeric(processed['number_of_posts'].str.replace(',', ''), errors='coerce')\n",
    "\n",
    "processed['number_of_posts'] = processed['number_of_posts'].fillna(0)\n",
    "\n",
    "processed['number_of_posts'] = processed['number_of_posts'].astype(int)\n",
    "\n",
    "average_posts = processed.loc[processed['number_of_posts'] != 0, 'number_of_posts'].mean()\n",
    "\n",
    "processed['number_of_posts'] = processed['number_of_posts'].replace(0, average_posts)"
   ]
  },
  {
   "cell_type": "markdown",
   "id": "30e29678",
   "metadata": {},
   "source": [
    "### Typecasting and cleaning column following"
   ]
  },
  {
   "cell_type": "code",
   "execution_count": 32,
   "id": "7ede3f21",
   "metadata": {},
   "outputs": [],
   "source": [
    "processed['following'] = pd.to_numeric(processed['following'].str.replace(',', ''), errors='coerce')\n",
    "\n",
    "processed['following'] = processed['following'].fillna(0)\n",
    "\n",
    "processed['following'] = processed['following'].astype(int)\n",
    "\n",
    "average_posts = processed.loc[processed['following'] != 0, 'following'].mean()\n",
    "\n",
    "processed['following'] = processed['following'].replace(0, average_posts)"
   ]
  },
  {
   "cell_type": "markdown",
   "id": "407e9f1a",
   "metadata": {},
   "source": [
    "### Visualization of Data"
   ]
  },
  {
   "cell_type": "code",
   "execution_count": 33,
   "id": "804368d0",
   "metadata": {},
   "outputs": [
    {
     "name": "stdout",
     "output_type": "stream",
     "text": [
      "<class 'pandas.core.frame.DataFrame'>\n",
      "RangeIndex: 18615 entries, 0 to 18614\n",
      "Data columns (total 4 columns):\n",
      " #   Column           Non-Null Count  Dtype  \n",
      "---  ------           --------------  -----  \n",
      " 0   followers        18615 non-null  float64\n",
      " 1   following        18615 non-null  float64\n",
      " 2   number_of_posts  18615 non-null  int32  \n",
      " 3   likes            18615 non-null  float64\n",
      "dtypes: float64(3), int32(1)\n",
      "memory usage: 509.1 KB\n"
     ]
    }
   ],
   "source": [
    "processed.info()"
   ]
  },
  {
   "cell_type": "code",
   "execution_count": 34,
   "id": "89bf428d",
   "metadata": {},
   "outputs": [],
   "source": [
    "user=processed[[\"followers\", \"following\", \"number_of_posts\", 'likes']]"
   ]
  },
  {
   "cell_type": "code",
   "execution_count": 35,
   "id": "0bfadfc8",
   "metadata": {},
   "outputs": [
    {
     "name": "stderr",
     "output_type": "stream",
     "text": [
      "C:\\ANACONDA\\Lib\\site-packages\\seaborn\\axisgrid.py:118: UserWarning: The figure layout has changed to tight\n",
      "  self._figure.tight_layout(*args, **kwargs)\n"
     ]
    },
    {
     "data": {
      "text/plain": [
       "<seaborn.axisgrid.PairGrid at 0x251633e0ad0>"
      ]
     },
     "execution_count": 35,
     "metadata": {},
     "output_type": "execute_result"
    },
    {
     "data": {
      "image/png": "[encoded data removed]",
      "text/plain": [
       "<Figure size 1000x1000 with 20 Axes>"
      ]
     },
     "metadata": {},
     "output_type": "display_data"
    }
   ],
   "source": [
    "sns.pairplot(user)"
   ]
  },
  {
   "cell_type": "code",
   "execution_count": 36,
   "id": "c9a75e95",
   "metadata": {},
   "outputs": [
    {
     "data": {
      "text/plain": [
       "<matplotlib.collections.PathCollection at 0x251633ebed0>"
      ]
     },
     "execution_count": 36,
     "metadata": {},
     "output_type": "execute_result"
    },
    {
     "data": {
      "image/png": "[encoded data removed]",
      "text/plain": [
       "<Figure size 640x480 with 1 Axes>"
      ]
     },
     "metadata": {},
     "output_type": "display_data"
    }
   ],
   "source": [
    "plt.scatter(user['followers'],user['likes'])"
   ]
  },
  {
   "cell_type": "markdown",
   "id": "b684e57c",
   "metadata": {},
   "source": [
    "### Approach 1 - Using XGBoost"
   ]
  },
  {
   "cell_type": "code",
   "execution_count": 38,
   "id": "997700a5",
   "metadata": {},
   "outputs": [],
   "source": [
    "features = ['followers', 'following', 'number_of_posts']  # Inputs to the model\n",
    "target = ['likes']"
   ]
  },
  {
   "cell_type": "code",
   "execution_count": 40,
   "id": "933586b9",
   "metadata": {},
   "outputs": [],
   "source": [
    "X = processed[features]\n",
    "y = processed[target]"
   ]
  },
  {
   "cell_type": "code",
   "execution_count": 41,
   "id": "3d102aac",
   "metadata": {},
   "outputs": [],
   "source": [
    "X_train, X_test, y_train, y_test = train_test_split(X, y, test_size=0.2, random_state=42)"
   ]
  },
  {
   "cell_type": "code",
   "execution_count": 42,
   "id": "0b1a318d",
   "metadata": {},
   "outputs": [
    {
     "name": "stdout",
     "output_type": "stream",
     "text": [
      "473779.75045699545\n",
      "Model saved successfully.\n"
     ]
    }
   ],
   "source": [
    "model_xgb = xgb.XGBRegressor(max_depth=3, learning_rate=0.01, n_estimators=200)\n",
    "\n",
    "model_xgb.fit(X_train, y_train)\n",
    "\n",
    "y_pred = model_xgb.predict(X_test)\n",
    "\n",
    "RMSE = mean_squared_error(y_test, y_pred)**0.5\n",
    "\n",
    "print(RMSE)\n",
    "\n",
    "joblib.dump(model_xgb, 'xgb_like_predictor_model.pkl')\n",
    "print(\"Model saved successfully.\")"
   ]
  },
  {
   "cell_type": "markdown",
   "id": "5f980068",
   "metadata": {},
   "source": [
    "### Function to optimize the values so that we can get more accurate model"
   ]
  },
  {
   "cell_type": "code",
   "execution_count": 43,
   "id": "51cd3a5e",
   "metadata": {},
   "outputs": [],
   "source": [
    "def score(params):\n",
    "    global best2\n",
    "    global count\n",
    "    count=count+1\n",
    "    print(count)\n",
    "    num_round = int(params['n_estimators'])\n",
    "    del(params['n_estimators'])\n",
    "    #params['n_estimators']=num_round\n",
    "    dtrain = xgb.DMatrix(X_train, label=y_train)\n",
    "    dvalid = xgb.DMatrix(X_test, label=y_test)\n",
    "    model = xgb.train(params, dtrain, num_round)\n",
    "    predictions = model.predict(dvalid)\n",
    "    score = mean_squared_error(y_test, predictions)**0.5\n",
    "    \n",
    "    if (score<best2):\n",
    "        best2=score\n",
    "        print(params)\n",
    "        print(num_round)\n",
    "        print(\"\\tScore {0}\\n\\n\".format(score))\n",
    "    return {'loss': score, 'status': STATUS_OK}"
   ]
  },
  {
   "cell_type": "code",
   "execution_count": 44,
   "id": "a6cddb53",
   "metadata": {},
   "outputs": [],
   "source": [
    "def optimize():\n",
    "    space = {\n",
    "             'n_estimators' : hp.quniform('n_estimators', 100, 1000, 1),\n",
    "             'learning_rate' : hp.quniform('learning_rate', 0.01, 0.5, 0.01),\n",
    "             'max_depth' : hp.choice('max_depth', np.arange(3, 7, dtype=int)),\n",
    "             \n",
    "             }\n",
    "\n",
    "    best = fmin(score, space, algo=tpe.suggest, max_evals=50)\n",
    "\n",
    "    print(best)"
   ]
  },
  {
   "cell_type": "code",
   "execution_count": 45,
   "id": "58aecb43",
   "metadata": {},
   "outputs": [
    {
     "name": "stdout",
     "output_type": "stream",
     "text": [
      "1                                                     \n",
      "2                                                                              \n",
      "3                                                                              \n",
      "4                                                                              \n",
      "5                                                                              \n",
      "6                                                                              \n",
      "7                                                                              \n",
      "8                                                                              \n",
      "9                                                                              \n",
      "10                                                                             \n",
      "11                                                                              \n",
      "12                                                                              \n",
      "13                                                                              \n",
      "14                                                                              \n",
      "15                                                                              \n",
      "16                                                                              \n",
      "17                                                                              \n",
      "18                                                                              \n",
      "19                                                                              \n",
      "20                                                                              \n",
      "21                                                                              \n",
      "22                                                                              \n",
      "23                                                                               \n",
      "24                                                                               \n",
      "25                                                                               \n",
      "26                                                                               \n",
      "27                                                                               \n",
      "28                                                                               \n",
      "29                                                                               \n",
      "30                                                                               \n",
      "31                                                                               \n",
      "32                                                                               \n",
      "33                                                                               \n",
      "34                                                                               \n",
      "35                                                                               \n",
      "36                                                                               \n",
      "37                                                                               \n",
      "38                                                                               \n",
      "39                                                                               \n",
      "40                                                                               \n",
      "41                                                                               \n",
      "42                                                                               \n",
      "43                                                                               \n",
      "44                                                                               \n",
      "45                                                                               \n",
      "46                                                                               \n",
      "47                                                                               \n",
      "48                                                                               \n",
      "49                                                                               \n",
      "50                                                                               \n",
      "100%|██████████| 50/50 [00:16<00:00,  3.02trial/s, best loss: 350527.95687477355]\n",
      "{'learning_rate': 0.11, 'max_depth': 0, 'n_estimators': 579.0}\n"
     ]
    }
   ],
   "source": [
    "best2=100000\n",
    "count=0\n",
    "optimize()"
   ]
  },
  {
   "cell_type": "code",
   "execution_count": null,
   "id": "c259c6eb",
   "metadata": {},
   "outputs": [],
   "source": [
    "model = joblib.load('xgb_like_predictor_model.pkl')\n",
    "\n",
    "\n",
    "Followers = int(input(\"Enter the number of followers: \"))\n",
    "Following = int(input(\"Enter the number of following: \"))\n",
    "Posts = int(input(\"Enter the number of followers: \"))\n",
    "\n",
    "\n",
    "data = {\n",
    "    'followers': [Followers],\n",
    "    'following': [Following],\n",
    "    'posts': [Posts]\n",
    "}\n",
    "\n",
    "\n",
    "input_df = pd.DataFrame(data)\n",
    "\n",
    "predictions = model.predict(input_df)\n",
    "\n",
    "predictions = int(predictions)\n",
    "\n",
    "\n",
    "print(\"Predicted number of likes:\", predictions)\n"
   ]
  },
  {
   "cell_type": "markdown",
   "id": "4a3a1181",
   "metadata": {},
   "source": [
    "### Approach 2 - "
   ]
  },
  {
   "cell_type": "code",
   "execution_count": 63,
   "id": "9af43ad5",
   "metadata": {},
   "outputs": [
    {
     "name": "stdout",
     "output_type": "stream",
     "text": [
      "Epoch 1/20\n"
     ]
    },
    {
     "name": "stderr",
     "output_type": "stream",
     "text": [
      "C:\\ANACONDA\\Lib\\site-packages\\keras\\src\\layers\\core\\dense.py:87: UserWarning: Do not pass an `input_shape`/`input_dim` argument to a layer. When using Sequential models, prefer using an `Input(shape)` object as the first layer in the model instead.\n",
      "  super().__init__(activity_regularizer=activity_regularizer, **kwargs)\n"
     ]
    },
    {
     "name": "stdout",
     "output_type": "stream",
     "text": [
      "\u001b[1m466/466\u001b[0m \u001b[32m━━━━━━━━━━━━━━━━━━━━\u001b[0m\u001b[37m\u001b[0m \u001b[1m3s\u001b[0m 2ms/step - loss: 905817358336.0000 - mean_absolute_error: 204245.2500 - mse: 905817358336.0000 - val_loss: 556880035840.0000 - val_mean_absolute_error: 159196.9688 - val_mse: 556880035840.0000\n",
      "Epoch 2/20\n",
      "\u001b[1m466/466\u001b[0m \u001b[32m━━━━━━━━━━━━━━━━━━━━\u001b[0m\u001b[37m\u001b[0m \u001b[1m1s\u001b[0m 2ms/step - loss: 638578196480.0000 - mean_absolute_error: 172955.0156 - mse: 638578196480.0000 - val_loss: 598065676288.0000 - val_mean_absolute_error: 168726.4688 - val_mse: 598065676288.0000\n",
      "Epoch 3/20\n",
      "\u001b[1m466/466\u001b[0m \u001b[32m━━━━━━━━━━━━━━━━━━━━\u001b[0m\u001b[37m\u001b[0m \u001b[1m1s\u001b[0m 2ms/step - loss: 570561003520.0000 - mean_absolute_error: 165891.6719 - mse: 570561003520.0000 - val_loss: 553399484416.0000 - val_mean_absolute_error: 159139.4688 - val_mse: 553399484416.0000\n",
      "Epoch 4/20\n",
      "\u001b[1m466/466\u001b[0m \u001b[32m━━━━━━━━━━━━━━━━━━━━\u001b[0m\u001b[37m\u001b[0m \u001b[1m1s\u001b[0m 2ms/step - loss: 646266552320.0000 - mean_absolute_error: 176084.4062 - mse: 646266552320.0000 - val_loss: 583744356352.0000 - val_mean_absolute_error: 166342.6875 - val_mse: 583744356352.0000\n",
      "Epoch 5/20\n",
      "\u001b[1m466/466\u001b[0m \u001b[32m━━━━━━━━━━━━━━━━━━━━\u001b[0m\u001b[37m\u001b[0m \u001b[1m1s\u001b[0m 2ms/step - loss: 612189732864.0000 - mean_absolute_error: 173702.6719 - mse: 612189732864.0000 - val_loss: 562864586752.0000 - val_mean_absolute_error: 160026.0625 - val_mse: 562864586752.0000\n",
      "Epoch 6/20\n",
      "\u001b[1m466/466\u001b[0m \u001b[32m━━━━━━━━━━━━━━━━━━━━\u001b[0m\u001b[37m\u001b[0m \u001b[1m1s\u001b[0m 2ms/step - loss: 570759184384.0000 - mean_absolute_error: 168134.5000 - mse: 570759184384.0000 - val_loss: 556424167424.0000 - val_mean_absolute_error: 160378.3750 - val_mse: 556424167424.0000\n",
      "Epoch 7/20\n",
      "\u001b[1m466/466\u001b[0m \u001b[32m━━━━━━━━━━━━━━━━━━━━\u001b[0m\u001b[37m\u001b[0m \u001b[1m1s\u001b[0m 2ms/step - loss: 560699473920.0000 - mean_absolute_error: 165196.6562 - mse: 560699473920.0000 - val_loss: 553384804352.0000 - val_mean_absolute_error: 159376.8438 - val_mse: 553384804352.0000\n",
      "Epoch 8/20\n",
      "\u001b[1m466/466\u001b[0m \u001b[32m━━━━━━━━━━━━━━━━━━━━\u001b[0m\u001b[37m\u001b[0m \u001b[1m1s\u001b[0m 2ms/step - loss: 607809110016.0000 - mean_absolute_error: 174257.0469 - mse: 607809110016.0000 - val_loss: 566943219712.0000 - val_mean_absolute_error: 160543.5469 - val_mse: 566943219712.0000\n",
      "Epoch 9/20\n",
      "\u001b[1m466/466\u001b[0m \u001b[32m━━━━━━━━━━━━━━━━━━━━\u001b[0m\u001b[37m\u001b[0m \u001b[1m1s\u001b[0m 2ms/step - loss: 561088954368.0000 - mean_absolute_error: 167338.4219 - mse: 561088954368.0000 - val_loss: 554263183360.0000 - val_mean_absolute_error: 159737.8906 - val_mse: 554263183360.0000\n",
      "Epoch 10/20\n",
      "\u001b[1m466/466\u001b[0m \u001b[32m━━━━━━━━━━━━━━━━━━━━\u001b[0m\u001b[37m\u001b[0m \u001b[1m1s\u001b[0m 2ms/step - loss: 603670315008.0000 - mean_absolute_error: 168268.1562 - mse: 603670315008.0000 - val_loss: 553277652992.0000 - val_mean_absolute_error: 159242.9844 - val_mse: 553277652992.0000\n",
      "Epoch 11/20\n",
      "\u001b[1m466/466\u001b[0m \u001b[32m━━━━━━━━━━━━━━━━━━━━\u001b[0m\u001b[37m\u001b[0m \u001b[1m1s\u001b[0m 2ms/step - loss: 645610799104.0000 - mean_absolute_error: 176761.1719 - mse: 645610799104.0000 - val_loss: 559906422784.0000 - val_mean_absolute_error: 161416.1250 - val_mse: 559906422784.0000\n",
      "Epoch 12/20\n",
      "\u001b[1m466/466\u001b[0m \u001b[32m━━━━━━━━━━━━━━━━━━━━\u001b[0m\u001b[37m\u001b[0m \u001b[1m1s\u001b[0m 1ms/step - loss: 604936863744.0000 - mean_absolute_error: 169227.4375 - mse: 604936863744.0000 - val_loss: 556566315008.0000 - val_mean_absolute_error: 160404.3750 - val_mse: 556566315008.0000\n",
      "Epoch 13/20\n",
      "\u001b[1m466/466\u001b[0m \u001b[32m━━━━━━━━━━━━━━━━━━━━\u001b[0m\u001b[37m\u001b[0m \u001b[1m1s\u001b[0m 1ms/step - loss: 619604410368.0000 - mean_absolute_error: 176107.9375 - mse: 619604410368.0000 - val_loss: 554263052288.0000 - val_mean_absolute_error: 159742.6094 - val_mse: 554263052288.0000\n",
      "Epoch 14/20\n",
      "\u001b[1m466/466\u001b[0m \u001b[32m━━━━━━━━━━━━━━━━━━━━\u001b[0m\u001b[37m\u001b[0m \u001b[1m1s\u001b[0m 1ms/step - loss: 722125520896.0000 - mean_absolute_error: 182284.5000 - mse: 722125520896.0000 - val_loss: 553414361088.0000 - val_mean_absolute_error: 159110.1406 - val_mse: 553414361088.0000\n",
      "Epoch 15/20\n",
      "\u001b[1m466/466\u001b[0m \u001b[32m━━━━━━━━━━━━━━━━━━━━\u001b[0m\u001b[37m\u001b[0m \u001b[1m1s\u001b[0m 1ms/step - loss: 761978159104.0000 - mean_absolute_error: 180728.4844 - mse: 761978159104.0000 - val_loss: 567945527296.0000 - val_mean_absolute_error: 160672.0938 - val_mse: 567945527296.0000\n",
      "Epoch 16/20\n",
      "\u001b[1m466/466\u001b[0m \u001b[32m━━━━━━━━━━━━━━━━━━━━\u001b[0m\u001b[37m\u001b[0m \u001b[1m1s\u001b[0m 1ms/step - loss: 700067545088.0000 - mean_absolute_error: 176736.1875 - mse: 700067545088.0000 - val_loss: 559129100288.0000 - val_mean_absolute_error: 161204.4375 - val_mse: 559129100288.0000\n",
      "Epoch 17/20\n",
      "\u001b[1m466/466\u001b[0m \u001b[32m━━━━━━━━━━━━━━━━━━━━\u001b[0m\u001b[37m\u001b[0m \u001b[1m1s\u001b[0m 1ms/step - loss: 617557262336.0000 - mean_absolute_error: 169283.0938 - mse: 617557262336.0000 - val_loss: 570172178432.0000 - val_mean_absolute_error: 160929.9062 - val_mse: 570172178432.0000\n",
      "Epoch 18/20\n",
      "\u001b[1m466/466\u001b[0m \u001b[32m━━━━━━━━━━━━━━━━━━━━\u001b[0m\u001b[37m\u001b[0m \u001b[1m1s\u001b[0m 1ms/step - loss: 553358589952.0000 - mean_absolute_error: 166753.6250 - mse: 553358589952.0000 - val_loss: 602564132864.0000 - val_mean_absolute_error: 169365.3438 - val_mse: 602564132864.0000\n",
      "Epoch 19/20\n",
      "\u001b[1m466/466\u001b[0m \u001b[32m━━━━━━━━━━━━━━━━━━━━\u001b[0m\u001b[37m\u001b[0m \u001b[1m1s\u001b[0m 1ms/step - loss: 608979386368.0000 - mean_absolute_error: 169245.3281 - mse: 608979386368.0000 - val_loss: 555760222208.0000 - val_mean_absolute_error: 160180.1250 - val_mse: 555760222208.0000\n",
      "Epoch 20/20\n",
      "\u001b[1m466/466\u001b[0m \u001b[32m━━━━━━━━━━━━━━━━━━━━\u001b[0m\u001b[37m\u001b[0m \u001b[1m1s\u001b[0m 1ms/step - loss: 576089882624.0000 - mean_absolute_error: 160996.2031 - mse: 576089882624.0000 - val_loss: 573071622144.0000 - val_mean_absolute_error: 164281.1875 - val_mse: 573071622144.0000\n"
     ]
    }
   ],
   "source": [
    "import pandas as pd\n",
    "import numpy as np\n",
    "from keras.models import Sequential\n",
    "from keras.layers import Dense\n",
    "from keras.losses import MeanSquaredError\n",
    "from keras.metrics import MeanAbsoluteError\n",
    "import ast\n",
    "from dateutil.parser import parse\n",
    "from sklearn.model_selection import train_test_split\n",
    "\n",
    "\n",
    "# Extract relevant features for the prediction model\n",
    "features = ['followers', 'following', 'number_of_posts']\n",
    "target = 'likes'\n",
    "\n",
    "# Build the data matrix\n",
    "X = processed[features].to_numpy()  # 3 inputs\n",
    "y = processed[target].to_numpy()  # 1 output\n",
    "\n",
    "# Split the data into training and testing sets\n",
    "X_train, X_test, y_train, y_test = train_test_split(X, y, test_size=0.2, random_state=42)\n",
    "\n",
    "# Build the Sequential model with updated input dimension\n",
    "model = Sequential()\n",
    "model.add(Dense(80, input_dim=len(features), activation='relu'))  # Adjusted for 3 inputs\n",
    "model.add(Dense(30, activation='relu'))\n",
    "model.add(Dense(10, activation='relu'))\n",
    "model.add(Dense(1))  # Output layer predicting a single value (number of likes)\n",
    "\n",
    "# Compile the model with the necessary metrics\n",
    "model.compile(loss=MeanSquaredError(), optimizer='adam', metrics=[MeanAbsoluteError(), 'mse'])\n",
    "\n",
    "# Fit the model with training data\n",
    "model.fit(X_train, y_train, epochs=20, batch_size=32, validation_data=(X_test, y_test))\n",
    "\n",
    "# Save the trained model\n",
    "model.save('like_prediction_model.keras')  # Save the trained model to a file"
   ]
  },
  {
   "cell_type": "code",
   "execution_count": 64,
   "id": "e0cf0126",
   "metadata": {},
   "outputs": [
    {
     "name": "stdout",
     "output_type": "stream",
     "text": [
      "(None, 3)\n",
      "\u001b[1m1/1\u001b[0m \u001b[32m━━━━━━━━━━━━━━━━━━━━\u001b[0m\u001b[37m\u001b[0m \u001b[1m0s\u001b[0m 94ms/step\n",
      "\u001b[1m1/1\u001b[0m \u001b[32m━━━━━━━━━━━━━━━━━━━━\u001b[0m\u001b[37m\u001b[0m \u001b[1m0s\u001b[0m 32ms/step\n",
      "\u001b[1m1/1\u001b[0m \u001b[32m━━━━━━━━━━━━━━━━━━━━\u001b[0m\u001b[37m\u001b[0m \u001b[1m0s\u001b[0m 28ms/step\n",
      "Prediction 1: [[249.20474]]\n",
      "Prediction 2: [[187.44969]]\n",
      "Prediction 3: [[2604.2324]]\n"
     ]
    }
   ],
   "source": [
    "from keras.models import load_model\n",
    "try:\n",
    "    model = load_model('like_prediction_model.keras')  # Load the saved model\n",
    "except Exception as e:\n",
    "    print(f\"Error loading model: {e}\")\n",
    "    \n",
    "print(model.input_shape)\n",
    "\n",
    "\n",
    "import numpy as np\n",
    "\n",
    "# Test with various input data\n",
    "input_data_1 = np.array([12000, 500, 78]).reshape(1, -1)  # First set of inputs\n",
    "input_data_2 = np.array([10000, 300, 60]).reshape(1, -1)  # Second set of inputs\n",
    "input_data_3 = np.array([200000, 600, 90]).reshape(1, -1)  # Third set of inputs\n",
    "\n",
    "# Make predictions with different inputs\n",
    "prediction_1 = model.predict(input_data_1)\n",
    "prediction_2 = model.predict(input_data_2)\n",
    "prediction_3 = model.predict(input_data_3)\n",
    "\n",
    "print(\"Prediction 1:\", prediction_1)  # Output the first prediction\n",
    "print(\"Prediction 2:\", prediction_2)  # Output the second prediction\n",
    "print(\"Prediction 3:\", prediction_3)  # Output the third prediction\n"
   ]
  },
  {
   "cell_type": "code",
   "execution_count": 65,
   "id": "728781b2",
   "metadata": {},
   "outputs": [
    {
     "name": "stdout",
     "output_type": "stream",
     "text": [
      "\u001b[1m1/1\u001b[0m \u001b[32m━━━━━━━━━━━━━━━━━━━━\u001b[0m\u001b[37m\u001b[0m \u001b[1m0s\u001b[0m 23ms/step\n",
      "Prediction 4: [[165.98112]]\n"
     ]
    }
   ],
   "source": [
    "input_data_4 = np.array([9000, 230, 1]).reshape(1, -1)\n",
    "\n",
    "prediction_4 = model.predict(input_data_4)\n",
    "\n",
    "print(\"Prediction 4:\", prediction_4)"
   ]
  },
  {
   "cell_type": "code",
   "execution_count": 68,
   "id": "027e3817",
   "metadata": {},
   "outputs": [
    {
     "name": "stdout",
     "output_type": "stream",
     "text": [
      "Enter the number of followers: 1560000\n",
      "Enter the number of following: 9\n",
      "Enter the number of posts: 145\n",
      "\u001b[1m1/1\u001b[0m \u001b[32m━━━━━━━━━━━━━━━━━━━━\u001b[0m\u001b[37m\u001b[0m \u001b[1m0s\u001b[0m 21ms/step\n",
      "Prediction is:  19367\n"
     ]
    }
   ],
   "source": [
    "Followers = int(input(\"Enter the number of followers: \"))\n",
    "Following = int(input(\"Enter the number of following: \"))\n",
    "Posts = int(input(\"Enter the number of posts: \"))\n",
    "\n",
    "data = {\n",
    "    'followers': [Followers],\n",
    "    'following': [Following],\n",
    "    'posts': [Posts]\n",
    "}\n",
    "\n",
    "input_df = pd.DataFrame(data)\n",
    "prediction = model.predict(input_df)\n",
    "\n",
    "print(\"Prediction is: \",int(prediction[0][0]))"
   ]
  },
  {
   "cell_type": "code",
   "execution_count": null,
   "id": "38eb5743",
   "metadata": {},
   "outputs": [],
   "source": []
  }
 ],
 "metadata": {
  "kernelspec": {
   "display_name": "Python 3 (ipykernel)",
   "language": "python",
   "name": "python3"
  },
  "language_info": {
   "codemirror_mode": {
    "name": "ipython",
    "version": 3
   },
   "file_extension": ".py",
   "mimetype": "text/x-python",
   "name": "python",
   "nbconvert_exporter": "python",
   "pygments_lexer": "ipython3",
   "version": "3.11.5"
  }
 },
 "nbformat": 4,
 "nbformat_minor": 5
}
